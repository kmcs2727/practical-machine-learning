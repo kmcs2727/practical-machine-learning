{
 "cells": [
  {
   "cell_type": "code",
   "id": "initial_id",
   "metadata": {
    "collapsed": true,
    "ExecuteTime": {
     "end_time": "2024-11-17T04:46:45.274247Z",
     "start_time": "2024-11-17T04:46:45.271382Z"
    }
   },
   "source": [
    "import pandas as pd\n",
    "from sklearn.model_selection import train_test_split"
   ],
   "outputs": [],
   "execution_count": 55
  },
  {
   "metadata": {
    "ExecuteTime": {
     "end_time": "2024-11-17T04:46:45.303392Z",
     "start_time": "2024-11-17T04:46:45.289366Z"
    }
   },
   "cell_type": "code",
   "source": [
    "# データを読み込む\n",
    "df = pd.read_csv(\"realestate_data.csv\")\n",
    "rows, columns = df.shape\n",
    "print(f\"行数: {rows}, 列数: {columns}\")\n",
    "df.head()"
   ],
   "id": "69a5bdf42af7bf2a",
   "outputs": [
    {
     "name": "stdout",
     "output_type": "stream",
     "text": [
      "行数: 7496, 列数: 9\n"
     ]
    },
    {
     "data": {
      "text/plain": [
       "   rent_price  house_area  year_from_built  distance  built_date  \\\n",
       "0     81000.0   22.627647               21     360.0  2001-04-01   \n",
       "1    119000.0   29.487423               11     720.0  2011-03-01   \n",
       "2     65000.0   13.960667               32     640.0  1990-03-01   \n",
       "3    230000.0   79.860208               13     480.0  2009-03-01   \n",
       "4    102000.0   34.471313               23     320.0  1999-05-01   \n",
       "\n",
       "   balcony_area house_structure  floor  total_floor  \n",
       "0           0.0              RC    4.0         10.0  \n",
       "1           0.0              RC    3.0         10.0  \n",
       "2           0.0              RC    3.0          6.0  \n",
       "3           0.0              RC   15.0         29.0  \n",
       "4           0.0              RC    2.0          7.0  "
      ],
      "text/html": [
       "<div>\n",
       "<style scoped>\n",
       "    .dataframe tbody tr th:only-of-type {\n",
       "        vertical-align: middle;\n",
       "    }\n",
       "\n",
       "    .dataframe tbody tr th {\n",
       "        vertical-align: top;\n",
       "    }\n",
       "\n",
       "    .dataframe thead th {\n",
       "        text-align: right;\n",
       "    }\n",
       "</style>\n",
       "<table border=\"1\" class=\"dataframe\">\n",
       "  <thead>\n",
       "    <tr style=\"text-align: right;\">\n",
       "      <th></th>\n",
       "      <th>rent_price</th>\n",
       "      <th>house_area</th>\n",
       "      <th>year_from_built</th>\n",
       "      <th>distance</th>\n",
       "      <th>built_date</th>\n",
       "      <th>balcony_area</th>\n",
       "      <th>house_structure</th>\n",
       "      <th>floor</th>\n",
       "      <th>total_floor</th>\n",
       "    </tr>\n",
       "  </thead>\n",
       "  <tbody>\n",
       "    <tr>\n",
       "      <th>0</th>\n",
       "      <td>81000.0</td>\n",
       "      <td>22.627647</td>\n",
       "      <td>21</td>\n",
       "      <td>360.0</td>\n",
       "      <td>2001-04-01</td>\n",
       "      <td>0.0</td>\n",
       "      <td>RC</td>\n",
       "      <td>4.0</td>\n",
       "      <td>10.0</td>\n",
       "    </tr>\n",
       "    <tr>\n",
       "      <th>1</th>\n",
       "      <td>119000.0</td>\n",
       "      <td>29.487423</td>\n",
       "      <td>11</td>\n",
       "      <td>720.0</td>\n",
       "      <td>2011-03-01</td>\n",
       "      <td>0.0</td>\n",
       "      <td>RC</td>\n",
       "      <td>3.0</td>\n",
       "      <td>10.0</td>\n",
       "    </tr>\n",
       "    <tr>\n",
       "      <th>2</th>\n",
       "      <td>65000.0</td>\n",
       "      <td>13.960667</td>\n",
       "      <td>32</td>\n",
       "      <td>640.0</td>\n",
       "      <td>1990-03-01</td>\n",
       "      <td>0.0</td>\n",
       "      <td>RC</td>\n",
       "      <td>3.0</td>\n",
       "      <td>6.0</td>\n",
       "    </tr>\n",
       "    <tr>\n",
       "      <th>3</th>\n",
       "      <td>230000.0</td>\n",
       "      <td>79.860208</td>\n",
       "      <td>13</td>\n",
       "      <td>480.0</td>\n",
       "      <td>2009-03-01</td>\n",
       "      <td>0.0</td>\n",
       "      <td>RC</td>\n",
       "      <td>15.0</td>\n",
       "      <td>29.0</td>\n",
       "    </tr>\n",
       "    <tr>\n",
       "      <th>4</th>\n",
       "      <td>102000.0</td>\n",
       "      <td>34.471313</td>\n",
       "      <td>23</td>\n",
       "      <td>320.0</td>\n",
       "      <td>1999-05-01</td>\n",
       "      <td>0.0</td>\n",
       "      <td>RC</td>\n",
       "      <td>2.0</td>\n",
       "      <td>7.0</td>\n",
       "    </tr>\n",
       "  </tbody>\n",
       "</table>\n",
       "</div>"
      ]
     },
     "execution_count": 56,
     "metadata": {},
     "output_type": "execute_result"
    }
   ],
   "execution_count": 56
  },
  {
   "metadata": {
    "ExecuteTime": {
     "end_time": "2024-11-17T04:46:45.341195Z",
     "start_time": "2024-11-17T04:46:45.338052Z"
    }
   },
   "cell_type": "code",
   "source": [
    "# 訓練データとテストデータに分ける\n",
    "train, test = train_test_split(df, test_size=0.2, random_state=0)\n",
    "len(train) + len(test) == len(df)"
   ],
   "id": "a910836e8b87776",
   "outputs": [
    {
     "data": {
      "text/plain": [
       "True"
      ]
     },
     "execution_count": 57,
     "metadata": {},
     "output_type": "execute_result"
    }
   ],
   "execution_count": 57
  },
  {
   "metadata": {
    "ExecuteTime": {
     "end_time": "2024-11-17T04:46:45.367647Z",
     "start_time": "2024-11-17T04:46:45.365519Z"
    }
   },
   "cell_type": "code",
   "source": [
    "# 機械学習ライブラリ\n",
    "from sklearn.linear_model import LinearRegression, Ridge, Lasso\n",
    "import lightgbm as lgb\n",
    "from sklearn.metrics import mean_squared_error"
   ],
   "id": "e99d703eef367ea0",
   "outputs": [],
   "execution_count": 58
  },
  {
   "metadata": {
    "ExecuteTime": {
     "end_time": "2024-11-17T04:46:45.378191Z",
     "start_time": "2024-11-17T04:46:45.376183Z"
    }
   },
   "cell_type": "code",
   "source": [
    "# 目的変数\n",
    "target_col = \"rent_price\"\n",
    "# 説明変数\n",
    "feature_cols = [\"house_area\", \"distance\", \"year_from_built\", \"floor\"]\n",
    "regression_models = {\n",
    "    \"LinearRegression\": LinearRegression(),\n",
    "    \"Ridge\": Ridge(alpha=0.1),\n",
    "    \"Lasso\": Lasso(alpha=0.1),\n",
    "    \"LightGBM\": lgb.LGBMRegressor()\n",
    "}"
   ],
   "id": "83e08eccdb85c89f",
   "outputs": [],
   "execution_count": 59
  },
  {
   "metadata": {
    "ExecuteTime": {
     "end_time": "2024-11-17T04:46:45.701963Z",
     "start_time": "2024-11-17T04:46:45.394270Z"
    }
   },
   "cell_type": "code",
   "source": [
    "result = dict()\n",
    "for model_name, model in regression_models.items():\n",
    "    train_y = train[target_col]\n",
    "    train_X = train[feature_cols]\n",
    "    test_y = test[target_col]\n",
    "    test_X = test[feature_cols]\n",
    "    model.fit(train_X, train_y)\n",
    "    pred_rent_price = model.predict(test_X)\n",
    "    error = mean_squared_error(test[target_col], pred_rent_price)\n",
    "    print(f\"Model: {model_name}, Error: {error}\")\n",
    "    result[model_name] = error"
   ],
   "id": "34cac9fe7602e553",
   "outputs": [
    {
     "name": "stdout",
     "output_type": "stream",
     "text": [
      "Model: LinearRegression, Error: 360488504.5014344\n",
      "Model: Ridge, Error: 360488516.60167414\n",
      "Model: Lasso, Error: 360488540.89717674\n",
      "[LightGBM] [Info] Auto-choosing col-wise multi-threading, the overhead of testing was 0.000725 seconds.\n",
      "You can set `force_col_wise=true` to remove the overhead.\n",
      "[LightGBM] [Info] Total Bins 403\n",
      "[LightGBM] [Info] Number of data points in the train set: 5996, number of used features: 4\n",
      "[LightGBM] [Info] Start training from score 107613.777852\n",
      "Model: LightGBM, Error: 284171430.9677962\n"
     ]
    }
   ],
   "execution_count": 60
  },
  {
   "metadata": {
    "ExecuteTime": {
     "end_time": "2024-11-17T04:46:45.723483Z",
     "start_time": "2024-11-17T04:46:45.720802Z"
    }
   },
   "cell_type": "code",
   "source": [
    "# 平均二乗誤差で性能評価\n",
    "result = sorted(result.items(), key=lambda x: x[1])\n",
    "good_model_name = result[0][0]\n",
    "print(f\"Good model name: {good_model_name}\")"
   ],
   "id": "dad2988a2a5fa13c",
   "outputs": [
    {
     "name": "stdout",
     "output_type": "stream",
     "text": [
      "Good model name: LightGBM\n"
     ]
    }
   ],
   "execution_count": 61
  },
  {
   "metadata": {
    "ExecuteTime": {
     "end_time": "2024-11-17T04:46:45.795583Z",
     "start_time": "2024-11-17T04:46:45.787094Z"
    }
   },
   "cell_type": "code",
   "source": [
    "# 予測したいデータを読み込む\n",
    "df_pred = pd.read_csv(\"realestate_pred.csv\")\n",
    "df_pred.head()"
   ],
   "id": "9fe6f1edd7036e7f",
   "outputs": [
    {
     "data": {
      "text/plain": [
       "   house_area  year_from_built  distance  built_date  balcony_area  \\\n",
       "0   27.688916               17     360.0  2005-04-01           0.0   \n",
       "1   34.501054                1    1040.0  2021-08-01           0.0   \n",
       "2   20.243089               34    1000.0  1988-03-01           0.0   \n",
       "3   50.870947               33     520.0  1989-06-01           0.0   \n",
       "4   65.707831               30     480.0  1992-01-01           0.0   \n",
       "\n",
       "  house_structure  floor  total_floor  \n",
       "0              RC   11.0         11.0  \n",
       "1              RC    4.0          7.0  \n",
       "2              鉄骨    1.0          4.0  \n",
       "3              RC    4.0          4.0  \n",
       "4              鉄骨    3.0          4.0  "
      ],
      "text/html": [
       "<div>\n",
       "<style scoped>\n",
       "    .dataframe tbody tr th:only-of-type {\n",
       "        vertical-align: middle;\n",
       "    }\n",
       "\n",
       "    .dataframe tbody tr th {\n",
       "        vertical-align: top;\n",
       "    }\n",
       "\n",
       "    .dataframe thead th {\n",
       "        text-align: right;\n",
       "    }\n",
       "</style>\n",
       "<table border=\"1\" class=\"dataframe\">\n",
       "  <thead>\n",
       "    <tr style=\"text-align: right;\">\n",
       "      <th></th>\n",
       "      <th>house_area</th>\n",
       "      <th>year_from_built</th>\n",
       "      <th>distance</th>\n",
       "      <th>built_date</th>\n",
       "      <th>balcony_area</th>\n",
       "      <th>house_structure</th>\n",
       "      <th>floor</th>\n",
       "      <th>total_floor</th>\n",
       "    </tr>\n",
       "  </thead>\n",
       "  <tbody>\n",
       "    <tr>\n",
       "      <th>0</th>\n",
       "      <td>27.688916</td>\n",
       "      <td>17</td>\n",
       "      <td>360.0</td>\n",
       "      <td>2005-04-01</td>\n",
       "      <td>0.0</td>\n",
       "      <td>RC</td>\n",
       "      <td>11.0</td>\n",
       "      <td>11.0</td>\n",
       "    </tr>\n",
       "    <tr>\n",
       "      <th>1</th>\n",
       "      <td>34.501054</td>\n",
       "      <td>1</td>\n",
       "      <td>1040.0</td>\n",
       "      <td>2021-08-01</td>\n",
       "      <td>0.0</td>\n",
       "      <td>RC</td>\n",
       "      <td>4.0</td>\n",
       "      <td>7.0</td>\n",
       "    </tr>\n",
       "    <tr>\n",
       "      <th>2</th>\n",
       "      <td>20.243089</td>\n",
       "      <td>34</td>\n",
       "      <td>1000.0</td>\n",
       "      <td>1988-03-01</td>\n",
       "      <td>0.0</td>\n",
       "      <td>鉄骨</td>\n",
       "      <td>1.0</td>\n",
       "      <td>4.0</td>\n",
       "    </tr>\n",
       "    <tr>\n",
       "      <th>3</th>\n",
       "      <td>50.870947</td>\n",
       "      <td>33</td>\n",
       "      <td>520.0</td>\n",
       "      <td>1989-06-01</td>\n",
       "      <td>0.0</td>\n",
       "      <td>RC</td>\n",
       "      <td>4.0</td>\n",
       "      <td>4.0</td>\n",
       "    </tr>\n",
       "    <tr>\n",
       "      <th>4</th>\n",
       "      <td>65.707831</td>\n",
       "      <td>30</td>\n",
       "      <td>480.0</td>\n",
       "      <td>1992-01-01</td>\n",
       "      <td>0.0</td>\n",
       "      <td>鉄骨</td>\n",
       "      <td>3.0</td>\n",
       "      <td>4.0</td>\n",
       "    </tr>\n",
       "  </tbody>\n",
       "</table>\n",
       "</div>"
      ]
     },
     "execution_count": 62,
     "metadata": {},
     "output_type": "execute_result"
    }
   ],
   "execution_count": 62
  },
  {
   "metadata": {
    "ExecuteTime": {
     "end_time": "2024-11-17T04:46:45.842788Z",
     "start_time": "2024-11-17T04:46:45.831736Z"
    }
   },
   "cell_type": "code",
   "source": [
    "X_pred = df_pred[feature_cols]\n",
    "df_pred[\"pred_rent_price\"] = regression_models[good_model_name].predict(X_pred)\n",
    "df_pred.head()"
   ],
   "id": "1cc0ce5d3beab5c0",
   "outputs": [
    {
     "data": {
      "text/plain": [
       "   house_area  year_from_built  distance  built_date  balcony_area  \\\n",
       "0   27.688916               17     360.0  2005-04-01           0.0   \n",
       "1   34.501054                1    1040.0  2021-08-01           0.0   \n",
       "2   20.243089               34    1000.0  1988-03-01           0.0   \n",
       "3   50.870947               33     520.0  1989-06-01           0.0   \n",
       "4   65.707831               30     480.0  1992-01-01           0.0   \n",
       "\n",
       "  house_structure  floor  total_floor  pred_rent_price  \n",
       "0              RC   11.0         11.0     96047.486605  \n",
       "1              RC    4.0          7.0    139239.087889  \n",
       "2              鉄骨    1.0          4.0     64908.453384  \n",
       "3              RC    4.0          4.0    123320.034471  \n",
       "4              鉄骨    3.0          4.0    154095.499573  "
      ],
      "text/html": [
       "<div>\n",
       "<style scoped>\n",
       "    .dataframe tbody tr th:only-of-type {\n",
       "        vertical-align: middle;\n",
       "    }\n",
       "\n",
       "    .dataframe tbody tr th {\n",
       "        vertical-align: top;\n",
       "    }\n",
       "\n",
       "    .dataframe thead th {\n",
       "        text-align: right;\n",
       "    }\n",
       "</style>\n",
       "<table border=\"1\" class=\"dataframe\">\n",
       "  <thead>\n",
       "    <tr style=\"text-align: right;\">\n",
       "      <th></th>\n",
       "      <th>house_area</th>\n",
       "      <th>year_from_built</th>\n",
       "      <th>distance</th>\n",
       "      <th>built_date</th>\n",
       "      <th>balcony_area</th>\n",
       "      <th>house_structure</th>\n",
       "      <th>floor</th>\n",
       "      <th>total_floor</th>\n",
       "      <th>pred_rent_price</th>\n",
       "    </tr>\n",
       "  </thead>\n",
       "  <tbody>\n",
       "    <tr>\n",
       "      <th>0</th>\n",
       "      <td>27.688916</td>\n",
       "      <td>17</td>\n",
       "      <td>360.0</td>\n",
       "      <td>2005-04-01</td>\n",
       "      <td>0.0</td>\n",
       "      <td>RC</td>\n",
       "      <td>11.0</td>\n",
       "      <td>11.0</td>\n",
       "      <td>96047.486605</td>\n",
       "    </tr>\n",
       "    <tr>\n",
       "      <th>1</th>\n",
       "      <td>34.501054</td>\n",
       "      <td>1</td>\n",
       "      <td>1040.0</td>\n",
       "      <td>2021-08-01</td>\n",
       "      <td>0.0</td>\n",
       "      <td>RC</td>\n",
       "      <td>4.0</td>\n",
       "      <td>7.0</td>\n",
       "      <td>139239.087889</td>\n",
       "    </tr>\n",
       "    <tr>\n",
       "      <th>2</th>\n",
       "      <td>20.243089</td>\n",
       "      <td>34</td>\n",
       "      <td>1000.0</td>\n",
       "      <td>1988-03-01</td>\n",
       "      <td>0.0</td>\n",
       "      <td>鉄骨</td>\n",
       "      <td>1.0</td>\n",
       "      <td>4.0</td>\n",
       "      <td>64908.453384</td>\n",
       "    </tr>\n",
       "    <tr>\n",
       "      <th>3</th>\n",
       "      <td>50.870947</td>\n",
       "      <td>33</td>\n",
       "      <td>520.0</td>\n",
       "      <td>1989-06-01</td>\n",
       "      <td>0.0</td>\n",
       "      <td>RC</td>\n",
       "      <td>4.0</td>\n",
       "      <td>4.0</td>\n",
       "      <td>123320.034471</td>\n",
       "    </tr>\n",
       "    <tr>\n",
       "      <th>4</th>\n",
       "      <td>65.707831</td>\n",
       "      <td>30</td>\n",
       "      <td>480.0</td>\n",
       "      <td>1992-01-01</td>\n",
       "      <td>0.0</td>\n",
       "      <td>鉄骨</td>\n",
       "      <td>3.0</td>\n",
       "      <td>4.0</td>\n",
       "      <td>154095.499573</td>\n",
       "    </tr>\n",
       "  </tbody>\n",
       "</table>\n",
       "</div>"
      ]
     },
     "execution_count": 63,
     "metadata": {},
     "output_type": "execute_result"
    }
   ],
   "execution_count": 63
  },
  {
   "metadata": {
    "ExecuteTime": {
     "end_time": "2024-11-17T04:46:45.885168Z",
     "start_time": "2024-11-17T04:46:45.883396Z"
    }
   },
   "cell_type": "code",
   "source": "",
   "id": "dd4950f45c57c29b",
   "outputs": [],
   "execution_count": null
  }
 ],
 "metadata": {
  "kernelspec": {
   "display_name": "Python 3",
   "language": "python",
   "name": "python3"
  },
  "language_info": {
   "codemirror_mode": {
    "name": "ipython",
    "version": 2
   },
   "file_extension": ".py",
   "mimetype": "text/x-python",
   "name": "python",
   "nbconvert_exporter": "python",
   "pygments_lexer": "ipython2",
   "version": "2.7.6"
  }
 },
 "nbformat": 4,
 "nbformat_minor": 5
}
