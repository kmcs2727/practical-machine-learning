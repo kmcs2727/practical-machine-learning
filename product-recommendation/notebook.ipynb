{
 "cells": [
  {
   "cell_type": "code",
   "id": "initial_id",
   "metadata": {
    "collapsed": true,
    "ExecuteTime": {
     "end_time": "2024-11-22T06:12:14.078030Z",
     "start_time": "2024-11-22T06:12:14.075296Z"
    }
   },
   "source": "import pandas as pd",
   "outputs": [],
   "execution_count": 396
  },
  {
   "metadata": {
    "ExecuteTime": {
     "end_time": "2024-11-22T06:12:14.096091Z",
     "start_time": "2024-11-22T06:12:14.087013Z"
    }
   },
   "cell_type": "code",
   "source": [
    "df =  pd.read_csv(\"animal_rating.csv\", index_col=0)\n",
    "print(f\"データ数: {len(df)}\")\n",
    "df.head()"
   ],
   "id": "aa366f4a6bfd282e",
   "outputs": [
    {
     "name": "stdout",
     "output_type": "stream",
     "text": [
      "データ数: 1000\n"
     ]
    },
    {
     "data": {
      "text/plain": [
       "          犬    猫  ペンギン  イルカ  パンダ\n",
       "user_1  NaN  5.0   NaN  5.0  NaN\n",
       "user_2  NaN  NaN   5.0  NaN  2.0\n",
       "user_3  NaN  5.0   5.0  NaN  5.0\n",
       "user_4  4.0  NaN   NaN  4.0  5.0\n",
       "user_5  5.0  4.0   NaN  NaN  5.0"
      ],
      "text/html": [
       "<div>\n",
       "<style scoped>\n",
       "    .dataframe tbody tr th:only-of-type {\n",
       "        vertical-align: middle;\n",
       "    }\n",
       "\n",
       "    .dataframe tbody tr th {\n",
       "        vertical-align: top;\n",
       "    }\n",
       "\n",
       "    .dataframe thead th {\n",
       "        text-align: right;\n",
       "    }\n",
       "</style>\n",
       "<table border=\"1\" class=\"dataframe\">\n",
       "  <thead>\n",
       "    <tr style=\"text-align: right;\">\n",
       "      <th></th>\n",
       "      <th>犬</th>\n",
       "      <th>猫</th>\n",
       "      <th>ペンギン</th>\n",
       "      <th>イルカ</th>\n",
       "      <th>パンダ</th>\n",
       "    </tr>\n",
       "  </thead>\n",
       "  <tbody>\n",
       "    <tr>\n",
       "      <th>user_1</th>\n",
       "      <td>NaN</td>\n",
       "      <td>5.0</td>\n",
       "      <td>NaN</td>\n",
       "      <td>5.0</td>\n",
       "      <td>NaN</td>\n",
       "    </tr>\n",
       "    <tr>\n",
       "      <th>user_2</th>\n",
       "      <td>NaN</td>\n",
       "      <td>NaN</td>\n",
       "      <td>5.0</td>\n",
       "      <td>NaN</td>\n",
       "      <td>2.0</td>\n",
       "    </tr>\n",
       "    <tr>\n",
       "      <th>user_3</th>\n",
       "      <td>NaN</td>\n",
       "      <td>5.0</td>\n",
       "      <td>5.0</td>\n",
       "      <td>NaN</td>\n",
       "      <td>5.0</td>\n",
       "    </tr>\n",
       "    <tr>\n",
       "      <th>user_4</th>\n",
       "      <td>4.0</td>\n",
       "      <td>NaN</td>\n",
       "      <td>NaN</td>\n",
       "      <td>4.0</td>\n",
       "      <td>5.0</td>\n",
       "    </tr>\n",
       "    <tr>\n",
       "      <th>user_5</th>\n",
       "      <td>5.0</td>\n",
       "      <td>4.0</td>\n",
       "      <td>NaN</td>\n",
       "      <td>NaN</td>\n",
       "      <td>5.0</td>\n",
       "    </tr>\n",
       "  </tbody>\n",
       "</table>\n",
       "</div>"
      ]
     },
     "execution_count": 397,
     "metadata": {},
     "output_type": "execute_result"
    }
   ],
   "execution_count": 397
  },
  {
   "metadata": {
    "ExecuteTime": {
     "end_time": "2024-11-22T06:12:14.127272Z",
     "start_time": "2024-11-22T06:12:14.122760Z"
    }
   },
   "cell_type": "code",
   "source": [
    "df_stacked = df.stack().to_frame().reset_index()\n",
    "df_stacked.columns = [\"ユーザーID\", \"商品ID\", \"rating\"]\n",
    "df_stacked.head()"
   ],
   "id": "d5cc1e8c20f1802d",
   "outputs": [
    {
     "data": {
      "text/plain": [
       "   ユーザーID  商品ID  rating\n",
       "0  user_1     猫     5.0\n",
       "1  user_1   イルカ     5.0\n",
       "2  user_2  ペンギン     5.0\n",
       "3  user_2   パンダ     2.0\n",
       "4  user_3     猫     5.0"
      ],
      "text/html": [
       "<div>\n",
       "<style scoped>\n",
       "    .dataframe tbody tr th:only-of-type {\n",
       "        vertical-align: middle;\n",
       "    }\n",
       "\n",
       "    .dataframe tbody tr th {\n",
       "        vertical-align: top;\n",
       "    }\n",
       "\n",
       "    .dataframe thead th {\n",
       "        text-align: right;\n",
       "    }\n",
       "</style>\n",
       "<table border=\"1\" class=\"dataframe\">\n",
       "  <thead>\n",
       "    <tr style=\"text-align: right;\">\n",
       "      <th></th>\n",
       "      <th>ユーザーID</th>\n",
       "      <th>商品ID</th>\n",
       "      <th>rating</th>\n",
       "    </tr>\n",
       "  </thead>\n",
       "  <tbody>\n",
       "    <tr>\n",
       "      <th>0</th>\n",
       "      <td>user_1</td>\n",
       "      <td>猫</td>\n",
       "      <td>5.0</td>\n",
       "    </tr>\n",
       "    <tr>\n",
       "      <th>1</th>\n",
       "      <td>user_1</td>\n",
       "      <td>イルカ</td>\n",
       "      <td>5.0</td>\n",
       "    </tr>\n",
       "    <tr>\n",
       "      <th>2</th>\n",
       "      <td>user_2</td>\n",
       "      <td>ペンギン</td>\n",
       "      <td>5.0</td>\n",
       "    </tr>\n",
       "    <tr>\n",
       "      <th>3</th>\n",
       "      <td>user_2</td>\n",
       "      <td>パンダ</td>\n",
       "      <td>2.0</td>\n",
       "    </tr>\n",
       "    <tr>\n",
       "      <th>4</th>\n",
       "      <td>user_3</td>\n",
       "      <td>猫</td>\n",
       "      <td>5.0</td>\n",
       "    </tr>\n",
       "  </tbody>\n",
       "</table>\n",
       "</div>"
      ]
     },
     "execution_count": 398,
     "metadata": {},
     "output_type": "execute_result"
    }
   ],
   "execution_count": 398
  },
  {
   "metadata": {
    "ExecuteTime": {
     "end_time": "2024-11-22T06:12:14.163284Z",
     "start_time": "2024-11-22T06:12:14.161692Z"
    }
   },
   "cell_type": "code",
   "source": "from surprise import Dataset, Reader",
   "id": "24ba1938ed70021f",
   "outputs": [],
   "execution_count": 399
  },
  {
   "metadata": {
    "ExecuteTime": {
     "end_time": "2024-11-22T06:12:14.190229Z",
     "start_time": "2024-11-22T06:12:14.186700Z"
    }
   },
   "cell_type": "code",
   "source": [
    "reader = Reader(rating_scale=(1, 5))\n",
    "data = Dataset.load_from_df(df_stacked, reader)"
   ],
   "id": "6c2f709d420025b6",
   "outputs": [],
   "execution_count": 400
  },
  {
   "metadata": {
    "ExecuteTime": {
     "end_time": "2024-11-22T06:12:14.194980Z",
     "start_time": "2024-11-22T06:12:14.193566Z"
    }
   },
   "cell_type": "code",
   "source": "from surprise.model_selection import train_test_split",
   "id": "d70a1cba8ba397a6",
   "outputs": [],
   "execution_count": 401
  },
  {
   "metadata": {
    "ExecuteTime": {
     "end_time": "2024-11-22T06:12:14.205421Z",
     "start_time": "2024-11-22T06:12:14.201961Z"
    }
   },
   "cell_type": "code",
   "source": "train, test = train_test_split(data, test_size=0.25)",
   "id": "7947e8ae66c062c",
   "outputs": [],
   "execution_count": 402
  },
  {
   "metadata": {
    "ExecuteTime": {
     "end_time": "2024-11-22T06:12:14.213624Z",
     "start_time": "2024-11-22T06:12:14.212276Z"
    }
   },
   "cell_type": "code",
   "source": "from surprise import SVD",
   "id": "e6627001a7f294de",
   "outputs": [],
   "execution_count": 403
  },
  {
   "metadata": {
    "ExecuteTime": {
     "end_time": "2024-11-22T06:12:14.233478Z",
     "start_time": "2024-11-22T06:12:14.220492Z"
    }
   },
   "cell_type": "code",
   "source": [
    "model = SVD()\n",
    "model.fit(train)"
   ],
   "id": "ec5a2475f5019482",
   "outputs": [
    {
     "data": {
      "text/plain": [
       "<surprise.prediction_algorithms.matrix_factorization.SVD at 0x137b30860>"
      ]
     },
     "execution_count": 404,
     "metadata": {},
     "output_type": "execute_result"
    }
   ],
   "execution_count": 404
  },
  {
   "metadata": {
    "ExecuteTime": {
     "end_time": "2024-11-22T06:12:14.296556Z",
     "start_time": "2024-11-22T06:12:14.295088Z"
    }
   },
   "cell_type": "code",
   "source": "from surprise import accuracy",
   "id": "10b884d2cf0b654a",
   "outputs": [],
   "execution_count": 405
  },
  {
   "metadata": {
    "ExecuteTime": {
     "end_time": "2024-11-22T06:12:14.308655Z",
     "start_time": "2024-11-22T06:12:14.303911Z"
    }
   },
   "cell_type": "code",
   "source": [
    "test_pred = model.test(test)\n",
    "accuracy.rmse(test_pred)"
   ],
   "id": "693681f7a2422cab",
   "outputs": [
    {
     "name": "stdout",
     "output_type": "stream",
     "text": [
      "RMSE: 1.1658\n"
     ]
    },
    {
     "data": {
      "text/plain": [
       "1.1657577076073333"
      ]
     },
     "execution_count": 406,
     "metadata": {},
     "output_type": "execute_result"
    }
   ],
   "execution_count": 406
  },
  {
   "metadata": {
    "ExecuteTime": {
     "end_time": "2024-11-22T06:12:14.407663Z",
     "start_time": "2024-11-22T06:12:14.404425Z"
    }
   },
   "cell_type": "code",
   "source": [
    "user_id = \"user_70\"\n",
    "print(f\"{user_id}に対するおすすめ度\")\n",
    "for item_id in [\"犬\", \"猫\", \"ペンギン\", \"イルカ\", \"パンダ\"]:\n",
    "    pred = model.predict(user_id, item_id)\n",
    "    print(f\"{item_id}:\\t{pred.est:.2}\", )"
   ],
   "id": "3962e69cb6d82b79",
   "outputs": [
    {
     "name": "stdout",
     "output_type": "stream",
     "text": [
      "user_70に対するおすすめ度\n",
      "犬:\t4.1\n",
      "猫:\t3.7\n",
      "ペンギン:\t4.8\n",
      "イルカ:\t4.5\n",
      "パンダ:\t3.7\n"
     ]
    }
   ],
   "execution_count": 407
  },
  {
   "metadata": {
    "ExecuteTime": {
     "end_time": "2024-11-22T06:12:14.440053Z",
     "start_time": "2024-11-22T06:12:14.438699Z"
    }
   },
   "cell_type": "code",
   "source": "",
   "id": "a179e702c701280a",
   "outputs": [],
   "execution_count": null
  }
 ],
 "metadata": {
  "kernelspec": {
   "display_name": "Python 3",
   "language": "python",
   "name": "python3"
  },
  "language_info": {
   "codemirror_mode": {
    "name": "ipython",
    "version": 2
   },
   "file_extension": ".py",
   "mimetype": "text/x-python",
   "name": "python",
   "nbconvert_exporter": "python",
   "pygments_lexer": "ipython2",
   "version": "2.7.6"
  }
 },
 "nbformat": 4,
 "nbformat_minor": 5
}
